{
 "cells": [
  {
   "cell_type": "code",
   "execution_count": 10,
   "metadata": {},
   "outputs": [],
   "source": [
    "from ast import literal_eval\n",
    "import tweepy, csv, time\n",
    "from emoji import UNICODE_EMOJI\n",
    "import pandas as pd\n",
    "import simplejson as json\n",
    "import csv"
   ]
  },
  {
   "cell_type": "code",
   "execution_count": 11,
   "metadata": {},
   "outputs": [],
   "source": [
    "def toCSV(toCSV):\n",
    "    keys = toCSV[0].keys()\n",
    "    with open('dataset/data/text_emotion.csv', 'w', encoding='utf-8') as output_file:\n",
    "        dict_writer = csv.DictWriter(output_file, keys)\n",
    "        dict_writer.writeheader()\n",
    "        dict_writer.writerows(toCSV)\n",
    "    "
   ]
  },
  {
   "cell_type": "code",
   "execution_count": 12,
   "metadata": {},
   "outputs": [],
   "source": [
    "def readTweet(path):\n",
    "    tweets = []\n",
    "    with open(path) as f:\n",
    "        for line in f:\n",
    "#             print(line)\n",
    "            d = json.loads(line)\n",
    "#             print(d.keys())\n",
    "#             print(type(d))\n",
    "            tweets.append(d)\n",
    "    return tweets\n",
    "\n",
    "\n",
    "def is_emoji(s):\n",
    "    count = 0\n",
    "    s= str(s)\n",
    "    codes = set()\n",
    "    for emoji in UNICODE_EMOJI:\n",
    "        total = s.count(emoji)\n",
    "        if total > 0:\n",
    "            codes.add(emoji)\n",
    "            count+=1\n",
    "        \n",
    "#         if count > 1:\n",
    "#             return False\n",
    "    return count\n",
    "    #return count, codes\n",
    "\n",
    "def createFiles(tweets):\n",
    "    categories={'happy':[\"😀\",\"😁\",\"😃\",\"😄\", \"🙂\", \"☺️\"], \n",
    "            'surprise':[\"😳\",\"😮\",\"😯\", \"😲\",\"😦\", \"😧\", \"😰\", \"😨\",\"😱\"], \n",
    "            'sad': ['😔', '😪',\"😕\", \"😟\",\"😟\", \"🙁\", \"☹\",\"😥\",\"😢\", \"😭\", \"😩\", \"😫\"],\n",
    "            'worry':[\"😬\"],\n",
    "            'disgust':[\"😨\",\"🤢\",\"🤮\", \"😖\", \"😣\"], 'intrigue' :[\"🤔\", \"🧐\", \"👀\"], \n",
    "            'annoy':[\"😒\", \"🙄\", \"😤\",\"😡\", \"😠\", \"🤬\"], \n",
    "            'joke':[\"😆\",\"😅\",\"🙃\", \"🤣\"], 'charm':[\"😉\", \"😍\", \"😘\"], 'awesome':[\"😎\"] }\n",
    "\n",
    "    texts = dict.fromkeys(categories, [])\n",
    "    text_emotion = []\n",
    "    for tweet in tweets:\n",
    "        try:\n",
    "            text = tweet['text'].replace(\"&amp;\",\"&\").replace(\",\",\"\").replace(\"RT\",\"\")\n",
    "            text = ' '.join(text.split())\n",
    "        except Exception:\n",
    "            continue\n",
    "        for k, v in categories.items():\n",
    "            if is_emoji(text)>1:\n",
    "                continue\n",
    "            \n",
    "            for em in v:\n",
    "                if text and em in text:\n",
    "                    #texts[k].append({'tweet_id':tweet['id'],'sentiment':k, 'author':tweet['screen_name'],'content':text})\n",
    "                    text_emotion.append({'tweet_id':tweet['id'],'sentiment':k, 'author':tweet['user']['screen_name'],'content':text})\n",
    "                    break\n",
    "#         print(text_emotion)\n",
    "            \n",
    "\n",
    "#         break\n",
    "    return text_emotion\n",
    "\n",
    "    \n",
    "#\"\"\"\n",
    "consumer_key = 'GSDyidvmJDvBMlGsbwXd5oJcr'\n",
    "consumer_secret = '1JzMV9nFhtX2WyRtpqNZbsDQ8iIiApkfveiKrASi5uXuIy5wb3'\n",
    "access_token = '342602156-blKsnAaObTRsuVifwvwSrO3oeaUv3qS1RtoR49Vb'\n",
    "access_token_secret = '20CUaxbGK91YMOTimOnV3TXnky4ahaKooI4XAoZQoqTkA'\n",
    "# #\"\"\"\n",
    "\n",
    "# consumer_key = 'vU17b7Kb18pZlgjx9Oc43aWEj'\n",
    "# consumer_secret = 'Oh5CiY5bp1nULnYD3kl6Z5i6uxk1i8oLpANynncT4L8goni4cn'\n",
    "# access_token = '342602156-ojXdIFyC1VH4aBCaNhcUbSq8QE6Epg86IXCQm8MV'\n",
    "# access_token_secret = 'WNCBXDrP1dx2HCCGXHVlzcTNIwBzRbEvbng8746Cv6cbK'\n",
    "\n",
    "# consumer_key = '4fRREyamPEIrTEtcWRZLaVqZK'\n",
    "# consumer_secret = 'xsOHv3aQG06YmPdvcV210iTF37JdowvhIz5d72KnU0A89AXFhs'\n",
    "# access_token = '1003076703931912192-2UEIEMqhgOjzcrRKC1DsiM9H21Netk'\n",
    "# access_token_secret = 'E3SbcBhbpzW5rP9jjHIjfBX5NwXraZOFf9CuKstINleXC'\n",
    "\n",
    "# consumer_key = 'So4YghjF635G78PpMBccCyQTo'\n",
    "# consumer_secret = 'SHYzaF4vkOqwu7uAMX64RPoSnaIoByyJEz8aHnsM8ifC6JguwG'\n",
    "# access_token = '1003076703931912192-GQRDA3jfDGwDAOJz0vKSFhHRnsefbH'\n",
    "# access_token_secret = '3k8br4aAGwEU45YHnjnLmixPIGctPslwrVkY0eoeDSVZj'\n",
    "auth = tweepy.OAuthHandler(consumer_key, consumer_secret)\n",
    "auth.set_access_token(access_token, access_token_secret)\n",
    "api = tweepy.API(auth,wait_on_rate_limit=True)"
   ]
  },
  {
   "cell_type": "code",
   "execution_count": 13,
   "metadata": {},
   "outputs": [],
   "source": [
    "# print(\"starting crawl:\")\n",
    "# try:\n",
    "#     for k,v in categories.items():\n",
    "#         print(k)\n",
    "#         for query in v:\n",
    "#             print(query)\n",
    "#             datatweets = tweepy.Cursor(api.search,q=\"\"+query,lang=\"en\",since=\"2018-06-01\").items(2000)\n",
    "#             print(\"{0}: Complete\".format(query))\n",
    "#             for tweet in datatweets:\n",
    "#                 text = tweet.text.replace(\"&amp;\",\"&\").replace(\",\",\"\").replace(\"RT\",\"\")\n",
    "#                 count, emojis = is_emoji(text) \n",
    "#                 if count > 1: #add for multiple of same emoji\n",
    "#                     continue\n",
    "#         #         print(text)\n",
    "#                 tweets.append(text)\n",
    "\n",
    "#             time.sleep(1e-3)\n",
    "#     pd.DataFrame(tweets).to_csv(k+\".csv\")\n",
    "# except Exception as e:\n",
    "#     print(e)\n",
    "#     pd.DataFrame(tweets).to_csv(k+\".csv\")\n",
    "\n"
   ]
  },
  {
   "cell_type": "code",
   "execution_count": 14,
   "metadata": {},
   "outputs": [],
   "source": [
    "tweets = []\n"
   ]
  },
  {
   "cell_type": "code",
   "execution_count": 15,
   "metadata": {},
   "outputs": [],
   "source": [
    "tweets = readTweet('tweets.log')\n"
   ]
  },
  {
   "cell_type": "code",
   "execution_count": 16,
   "metadata": {},
   "outputs": [],
   "source": [
    "emotion_tweet = createFiles(tweets)"
   ]
  },
  {
   "cell_type": "code",
   "execution_count": 17,
   "metadata": {},
   "outputs": [
    {
     "name": "stdout",
     "output_type": "stream",
     "text": [
      "284436\n"
     ]
    }
   ],
   "source": [
    "print(len(emotion_tweet))"
   ]
  },
  {
   "cell_type": "code",
   "execution_count": 18,
   "metadata": {},
   "outputs": [],
   "source": [
    "toCSV(emotion_tweet)"
   ]
  },
  {
   "cell_type": "code",
   "execution_count": null,
   "metadata": {},
   "outputs": [],
   "source": []
  },
  {
   "cell_type": "code",
   "execution_count": null,
   "metadata": {},
   "outputs": [],
   "source": []
  }
 ],
 "metadata": {
  "kernelspec": {
   "display_name": "Python 3",
   "language": "python",
   "name": "python3"
  },
  "language_info": {
   "codemirror_mode": {
    "name": "ipython",
    "version": 3
   },
   "file_extension": ".py",
   "mimetype": "text/x-python",
   "name": "python",
   "nbconvert_exporter": "python",
   "pygments_lexer": "ipython3",
   "version": "3.6.6"
  }
 },
 "nbformat": 4,
 "nbformat_minor": 2
}
